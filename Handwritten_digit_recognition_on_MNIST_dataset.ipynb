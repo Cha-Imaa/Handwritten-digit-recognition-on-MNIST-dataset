{
  "cells": [
    {
      "cell_type": "markdown",
      "metadata": {
        "id": "eKaTqXWJWkM8"
      },
      "source": [
        "<hr style=\" border:none; height:3px;\">\n",
        "<h1>\n",
        "<center>Handwritten digit recognition on MNIST dataset</center>\n",
        "</h1>\n",
        "<hr style=\" border:none; height:3px;\">"
      ]
    },
    {
      "cell_type": "markdown",
      "source": [
        "<h1>Imports</h1>"
      ],
      "metadata": {
        "id": "YMj9q0iC7cAr"
      }
    },
    {
      "cell_type": "code",
      "execution_count": 1,
      "metadata": {
        "id": "KLSvKFEs_0cI"
      },
      "outputs": [],
      "source": [
        "import numpy as np \n",
        "import pandas as pd\n",
        "import matplotlib.pyplot as plt \n",
        "from tqdm import tqdm\n",
        "import tensorflow as tf\n",
        "from tensorflow.keras.layers import Conv2D, MaxPooling2D, Flatten, Dense, Dropout, BatchNormalization\n",
        "from tensorflow.keras.models import Sequential\n",
        "from tensorflow.keras.callbacks import EarlyStopping"
      ]
    },
    {
      "cell_type": "code",
      "source": [
        "# extract train and test data files\n",
        "!unrar x '/content/MNIST.rar'"
      ],
      "metadata": {
        "id": "wGDgrPsr7PsV",
        "colab": {
          "base_uri": "https://localhost:8080/",
          "height": 0
        },
        "outputId": "cca47800-1394-47d6-c63d-461132417652"
      },
      "execution_count": 2,
      "outputs": [
        {
          "output_type": "stream",
          "name": "stdout",
          "text": [
            "\n",
            "UNRAR 5.50 freeware      Copyright (c) 1993-2017 Alexander Roshal\n",
            "\n",
            "\n",
            "Extracting from /content/MNIST.rar\n",
            "\n",
            "Extracting  MNIST_train.csv                                              \b\b\b\b 30%\b\b\b\b 61%\b\b\b\b 85%\b\b\b\b\b  OK \n",
            "Extracting  MNIST_test.csv                                               \b\b\b\b 99%\b\b\b\b\b  OK \n",
            "All OK\n"
          ]
        }
      ]
    },
    {
      "cell_type": "code",
      "execution_count": 3,
      "metadata": {
        "id": "TSCGbnZ5BPF7"
      },
      "outputs": [],
      "source": [
        "# loading the data\n",
        "train = pd.read_csv('/content/MNIST_train.csv')  \n",
        "test = pd.read_csv('/content/MNIST_test.csv')"
      ]
    },
    {
      "cell_type": "code",
      "execution_count": 4,
      "metadata": {
        "id": "k39EaNDVGZ2i",
        "colab": {
          "base_uri": "https://localhost:8080/",
          "height": 235
        },
        "outputId": "d6e5a0c0-6e8b-456f-c926-306d4377d3bf"
      },
      "outputs": [
        {
          "output_type": "execute_result",
          "data": {
            "text/plain": [
              "   label  1x1  1x2  1x3  1x4  1x5  1x6  1x7  1x8  1x9  ...  28x19  28x20  \\\n",
              "0      7    0    0    0    0    0    0    0    0    0  ...      0      0   \n",
              "1      2    0    0    0    0    0    0    0    0    0  ...      0      0   \n",
              "2      1    0    0    0    0    0    0    0    0    0  ...      0      0   \n",
              "3      0    0    0    0    0    0    0    0    0    0  ...      0      0   \n",
              "4      4    0    0    0    0    0    0    0    0    0  ...      0      0   \n",
              "\n",
              "   28x21  28x22  28x23  28x24  28x25  28x26  28x27  28x28  \n",
              "0      0      0      0      0      0      0      0      0  \n",
              "1      0      0      0      0      0      0      0      0  \n",
              "2      0      0      0      0      0      0      0      0  \n",
              "3      0      0      0      0      0      0      0      0  \n",
              "4      0      0      0      0      0      0      0      0  \n",
              "\n",
              "[5 rows x 785 columns]"
            ],
            "text/html": [
              "\n",
              "  <div id=\"df-f246e3c1-4078-46cd-9991-935cfa0f39e4\">\n",
              "    <div class=\"colab-df-container\">\n",
              "      <div>\n",
              "<style scoped>\n",
              "    .dataframe tbody tr th:only-of-type {\n",
              "        vertical-align: middle;\n",
              "    }\n",
              "\n",
              "    .dataframe tbody tr th {\n",
              "        vertical-align: top;\n",
              "    }\n",
              "\n",
              "    .dataframe thead th {\n",
              "        text-align: right;\n",
              "    }\n",
              "</style>\n",
              "<table border=\"1\" class=\"dataframe\">\n",
              "  <thead>\n",
              "    <tr style=\"text-align: right;\">\n",
              "      <th></th>\n",
              "      <th>label</th>\n",
              "      <th>1x1</th>\n",
              "      <th>1x2</th>\n",
              "      <th>1x3</th>\n",
              "      <th>1x4</th>\n",
              "      <th>1x5</th>\n",
              "      <th>1x6</th>\n",
              "      <th>1x7</th>\n",
              "      <th>1x8</th>\n",
              "      <th>1x9</th>\n",
              "      <th>...</th>\n",
              "      <th>28x19</th>\n",
              "      <th>28x20</th>\n",
              "      <th>28x21</th>\n",
              "      <th>28x22</th>\n",
              "      <th>28x23</th>\n",
              "      <th>28x24</th>\n",
              "      <th>28x25</th>\n",
              "      <th>28x26</th>\n",
              "      <th>28x27</th>\n",
              "      <th>28x28</th>\n",
              "    </tr>\n",
              "  </thead>\n",
              "  <tbody>\n",
              "    <tr>\n",
              "      <th>0</th>\n",
              "      <td>7</td>\n",
              "      <td>0</td>\n",
              "      <td>0</td>\n",
              "      <td>0</td>\n",
              "      <td>0</td>\n",
              "      <td>0</td>\n",
              "      <td>0</td>\n",
              "      <td>0</td>\n",
              "      <td>0</td>\n",
              "      <td>0</td>\n",
              "      <td>...</td>\n",
              "      <td>0</td>\n",
              "      <td>0</td>\n",
              "      <td>0</td>\n",
              "      <td>0</td>\n",
              "      <td>0</td>\n",
              "      <td>0</td>\n",
              "      <td>0</td>\n",
              "      <td>0</td>\n",
              "      <td>0</td>\n",
              "      <td>0</td>\n",
              "    </tr>\n",
              "    <tr>\n",
              "      <th>1</th>\n",
              "      <td>2</td>\n",
              "      <td>0</td>\n",
              "      <td>0</td>\n",
              "      <td>0</td>\n",
              "      <td>0</td>\n",
              "      <td>0</td>\n",
              "      <td>0</td>\n",
              "      <td>0</td>\n",
              "      <td>0</td>\n",
              "      <td>0</td>\n",
              "      <td>...</td>\n",
              "      <td>0</td>\n",
              "      <td>0</td>\n",
              "      <td>0</td>\n",
              "      <td>0</td>\n",
              "      <td>0</td>\n",
              "      <td>0</td>\n",
              "      <td>0</td>\n",
              "      <td>0</td>\n",
              "      <td>0</td>\n",
              "      <td>0</td>\n",
              "    </tr>\n",
              "    <tr>\n",
              "      <th>2</th>\n",
              "      <td>1</td>\n",
              "      <td>0</td>\n",
              "      <td>0</td>\n",
              "      <td>0</td>\n",
              "      <td>0</td>\n",
              "      <td>0</td>\n",
              "      <td>0</td>\n",
              "      <td>0</td>\n",
              "      <td>0</td>\n",
              "      <td>0</td>\n",
              "      <td>...</td>\n",
              "      <td>0</td>\n",
              "      <td>0</td>\n",
              "      <td>0</td>\n",
              "      <td>0</td>\n",
              "      <td>0</td>\n",
              "      <td>0</td>\n",
              "      <td>0</td>\n",
              "      <td>0</td>\n",
              "      <td>0</td>\n",
              "      <td>0</td>\n",
              "    </tr>\n",
              "    <tr>\n",
              "      <th>3</th>\n",
              "      <td>0</td>\n",
              "      <td>0</td>\n",
              "      <td>0</td>\n",
              "      <td>0</td>\n",
              "      <td>0</td>\n",
              "      <td>0</td>\n",
              "      <td>0</td>\n",
              "      <td>0</td>\n",
              "      <td>0</td>\n",
              "      <td>0</td>\n",
              "      <td>...</td>\n",
              "      <td>0</td>\n",
              "      <td>0</td>\n",
              "      <td>0</td>\n",
              "      <td>0</td>\n",
              "      <td>0</td>\n",
              "      <td>0</td>\n",
              "      <td>0</td>\n",
              "      <td>0</td>\n",
              "      <td>0</td>\n",
              "      <td>0</td>\n",
              "    </tr>\n",
              "    <tr>\n",
              "      <th>4</th>\n",
              "      <td>4</td>\n",
              "      <td>0</td>\n",
              "      <td>0</td>\n",
              "      <td>0</td>\n",
              "      <td>0</td>\n",
              "      <td>0</td>\n",
              "      <td>0</td>\n",
              "      <td>0</td>\n",
              "      <td>0</td>\n",
              "      <td>0</td>\n",
              "      <td>...</td>\n",
              "      <td>0</td>\n",
              "      <td>0</td>\n",
              "      <td>0</td>\n",
              "      <td>0</td>\n",
              "      <td>0</td>\n",
              "      <td>0</td>\n",
              "      <td>0</td>\n",
              "      <td>0</td>\n",
              "      <td>0</td>\n",
              "      <td>0</td>\n",
              "    </tr>\n",
              "  </tbody>\n",
              "</table>\n",
              "<p>5 rows × 785 columns</p>\n",
              "</div>\n",
              "      <button class=\"colab-df-convert\" onclick=\"convertToInteractive('df-f246e3c1-4078-46cd-9991-935cfa0f39e4')\"\n",
              "              title=\"Convert this dataframe to an interactive table.\"\n",
              "              style=\"display:none;\">\n",
              "        \n",
              "  <svg xmlns=\"http://www.w3.org/2000/svg\" height=\"24px\"viewBox=\"0 0 24 24\"\n",
              "       width=\"24px\">\n",
              "    <path d=\"M0 0h24v24H0V0z\" fill=\"none\"/>\n",
              "    <path d=\"M18.56 5.44l.94 2.06.94-2.06 2.06-.94-2.06-.94-.94-2.06-.94 2.06-2.06.94zm-11 1L8.5 8.5l.94-2.06 2.06-.94-2.06-.94L8.5 2.5l-.94 2.06-2.06.94zm10 10l.94 2.06.94-2.06 2.06-.94-2.06-.94-.94-2.06-.94 2.06-2.06.94z\"/><path d=\"M17.41 7.96l-1.37-1.37c-.4-.4-.92-.59-1.43-.59-.52 0-1.04.2-1.43.59L10.3 9.45l-7.72 7.72c-.78.78-.78 2.05 0 2.83L4 21.41c.39.39.9.59 1.41.59.51 0 1.02-.2 1.41-.59l7.78-7.78 2.81-2.81c.8-.78.8-2.07 0-2.86zM5.41 20L4 18.59l7.72-7.72 1.47 1.35L5.41 20z\"/>\n",
              "  </svg>\n",
              "      </button>\n",
              "      \n",
              "  <style>\n",
              "    .colab-df-container {\n",
              "      display:flex;\n",
              "      flex-wrap:wrap;\n",
              "      gap: 12px;\n",
              "    }\n",
              "\n",
              "    .colab-df-convert {\n",
              "      background-color: #E8F0FE;\n",
              "      border: none;\n",
              "      border-radius: 50%;\n",
              "      cursor: pointer;\n",
              "      display: none;\n",
              "      fill: #1967D2;\n",
              "      height: 32px;\n",
              "      padding: 0 0 0 0;\n",
              "      width: 32px;\n",
              "    }\n",
              "\n",
              "    .colab-df-convert:hover {\n",
              "      background-color: #E2EBFA;\n",
              "      box-shadow: 0px 1px 2px rgba(60, 64, 67, 0.3), 0px 1px 3px 1px rgba(60, 64, 67, 0.15);\n",
              "      fill: #174EA6;\n",
              "    }\n",
              "\n",
              "    [theme=dark] .colab-df-convert {\n",
              "      background-color: #3B4455;\n",
              "      fill: #D2E3FC;\n",
              "    }\n",
              "\n",
              "    [theme=dark] .colab-df-convert:hover {\n",
              "      background-color: #434B5C;\n",
              "      box-shadow: 0px 1px 3px 1px rgba(0, 0, 0, 0.15);\n",
              "      filter: drop-shadow(0px 1px 2px rgba(0, 0, 0, 0.3));\n",
              "      fill: #FFFFFF;\n",
              "    }\n",
              "  </style>\n",
              "\n",
              "      <script>\n",
              "        const buttonEl =\n",
              "          document.querySelector('#df-f246e3c1-4078-46cd-9991-935cfa0f39e4 button.colab-df-convert');\n",
              "        buttonEl.style.display =\n",
              "          google.colab.kernel.accessAllowed ? 'block' : 'none';\n",
              "\n",
              "        async function convertToInteractive(key) {\n",
              "          const element = document.querySelector('#df-f246e3c1-4078-46cd-9991-935cfa0f39e4');\n",
              "          const dataTable =\n",
              "            await google.colab.kernel.invokeFunction('convertToInteractive',\n",
              "                                                     [key], {});\n",
              "          if (!dataTable) return;\n",
              "\n",
              "          const docLinkHtml = 'Like what you see? Visit the ' +\n",
              "            '<a target=\"_blank\" href=https://colab.research.google.com/notebooks/data_table.ipynb>data table notebook</a>'\n",
              "            + ' to learn more about interactive tables.';\n",
              "          element.innerHTML = '';\n",
              "          dataTable['output_type'] = 'display_data';\n",
              "          await google.colab.output.renderOutput(dataTable, element);\n",
              "          const docLink = document.createElement('div');\n",
              "          docLink.innerHTML = docLinkHtml;\n",
              "          element.appendChild(docLink);\n",
              "        }\n",
              "      </script>\n",
              "    </div>\n",
              "  </div>\n",
              "  "
            ]
          },
          "metadata": {},
          "execution_count": 4
        }
      ],
      "source": [
        "test.head()"
      ]
    },
    {
      "cell_type": "code",
      "execution_count": 5,
      "metadata": {
        "id": "2ZXJ1NGCBZCg"
      },
      "outputs": [],
      "source": [
        "# split the data into features and target column\n",
        "x_train = train.iloc[:, 1:].values\n",
        "y_train = train.iloc[:, 0].values\n",
        "x_test = test.iloc[:, 1:].values\n",
        "y_test = test.iloc[:, 0].values"
      ]
    },
    {
      "cell_type": "code",
      "execution_count": 6,
      "metadata": {
        "id": "U26bT_BiDfFK",
        "colab": {
          "base_uri": "https://localhost:8080/",
          "height": 0
        },
        "outputId": "345cd6df-23b5-4f54-fbc3-c67e87fb4ab3"
      },
      "outputs": [
        {
          "output_type": "stream",
          "name": "stdout",
          "text": [
            "x_train shape: (60000, 784)\n",
            "y_train shape: (60000,)\n",
            "x_test shape: (10000, 784)\n",
            "x_test shape: (10000,)\n"
          ]
        }
      ],
      "source": [
        "print(f\"x_train shape: {x_train.shape}\")\n",
        "print(f\"y_train shape: {y_train.shape}\")\n",
        "print(f\"x_test shape: {x_test.shape}\")\n",
        "print(f\"x_test shape: {y_test.shape}\")"
      ]
    },
    {
      "cell_type": "code",
      "execution_count": 7,
      "metadata": {
        "id": "uVWdMu9vO0oP"
      },
      "outputs": [],
      "source": [
        "# rescale the images\n",
        "x_train = x_train/255.0\n",
        "x_test = x_test/255.0"
      ]
    },
    {
      "cell_type": "code",
      "execution_count": 8,
      "metadata": {
        "id": "XbMPD3GODfJd",
        "colab": {
          "base_uri": "https://localhost:8080/",
          "height": 154
        },
        "outputId": "c14a9cf5-5e42-43b1-e9a4-fe52ff8635f5"
      },
      "outputs": [
        {
          "output_type": "display_data",
          "data": {
            "text/plain": [
              "<Figure size 720x720 with 6 Axes>"
            ],
            "image/png": "[encoded data removed]"
          },
          "metadata": {
            "needs_background": "light"
          }
        }
      ],
      "source": [
        "# visualize the data\n",
        "fig, ax = plt.subplots(1,6, figsize=(10,10))\n",
        "for i in range(6):\n",
        "  ax[i].imshow(x_train[i].reshape(28, 28), cmap='cividis')\n",
        "  ax[i].set_title(f'Label: {y_train[i]}')\n",
        "  ax[i].axis('off')\n",
        "\n",
        "plt.tight_layout()\n",
        "plt.show()"
      ]
    },
    {
      "cell_type": "markdown",
      "source": [
        "<h1>Training a simple Neural Network</h1>"
      ],
      "metadata": {
        "id": "b01MfBXljSOV"
      }
    },
    {
      "cell_type": "code",
      "source": [
        "model = tf.keras.models.Sequential()\n",
        "model.add(Dense(128, activation=tf.nn.relu))\n",
        "model.add(Dense(128, activation=tf.nn.relu))\n",
        "model.add(Dense(10, activation=tf.nn.softmax))\n",
        "\n",
        "model.compile(optimizer='adam',\n",
        "              loss='sparse_categorical_crossentropy',\n",
        "              metrics=['accuracy'])\n",
        "\n",
        "history = model.fit(x_train, y_train,validation_data = (x_test, y_test),batch_size = 32, epochs=25)"
      ],
      "metadata": {
        "colab": {
          "base_uri": "https://localhost:8080/",
          "height": 0
        },
        "id": "LUmE8SwZjhW5",
        "outputId": "563a92b9-0c88-48ea-aae1-4f55297076a9"
      },
      "execution_count": 9,
      "outputs": [
        {
          "output_type": "stream",
          "name": "stdout",
          "text": [
            "Epoch 1/25\n",
            "1875/1875 [==============================] - 8s 4ms/step - loss: 0.2282 - accuracy: 0.9324 - val_loss: 0.1278 - val_accuracy: 0.9596\n",
            "Epoch 2/25\n",
            "1875/1875 [==============================] - 6s 3ms/step - loss: 0.0951 - accuracy: 0.9712 - val_loss: 0.0944 - val_accuracy: 0.9698\n",
            "Epoch 3/25\n",
            "1875/1875 [==============================] - 6s 3ms/step - loss: 0.0664 - accuracy: 0.9790 - val_loss: 0.0872 - val_accuracy: 0.9752\n",
            "Epoch 4/25\n",
            "1875/1875 [==============================] - 7s 4ms/step - loss: 0.0504 - accuracy: 0.9843 - val_loss: 0.0741 - val_accuracy: 0.9761\n",
            "Epoch 5/25\n",
            "1875/1875 [==============================] - 7s 4ms/step - loss: 0.0393 - accuracy: 0.9870 - val_loss: 0.0773 - val_accuracy: 0.9758\n",
            "Epoch 6/25\n",
            "1875/1875 [==============================] - 7s 4ms/step - loss: 0.0334 - accuracy: 0.9888 - val_loss: 0.0799 - val_accuracy: 0.9758\n",
            "Epoch 7/25\n",
            "1875/1875 [==============================] - 6s 3ms/step - loss: 0.0262 - accuracy: 0.9912 - val_loss: 0.0879 - val_accuracy: 0.9756\n",
            "Epoch 8/25\n",
            "1875/1875 [==============================] - 7s 4ms/step - loss: 0.0228 - accuracy: 0.9922 - val_loss: 0.0997 - val_accuracy: 0.9762\n",
            "Epoch 9/25\n",
            "1875/1875 [==============================] - 6s 3ms/step - loss: 0.0210 - accuracy: 0.9931 - val_loss: 0.0909 - val_accuracy: 0.9773\n",
            "Epoch 10/25\n",
            "1875/1875 [==============================] - 6s 3ms/step - loss: 0.0189 - accuracy: 0.9936 - val_loss: 0.0837 - val_accuracy: 0.9789\n",
            "Epoch 11/25\n",
            "1875/1875 [==============================] - 6s 3ms/step - loss: 0.0160 - accuracy: 0.9947 - val_loss: 0.1020 - val_accuracy: 0.9762\n",
            "Epoch 12/25\n",
            "1875/1875 [==============================] - 6s 3ms/step - loss: 0.0144 - accuracy: 0.9952 - val_loss: 0.1068 - val_accuracy: 0.9777\n",
            "Epoch 13/25\n",
            "1875/1875 [==============================] - 6s 3ms/step - loss: 0.0154 - accuracy: 0.9949 - val_loss: 0.0974 - val_accuracy: 0.9792\n",
            "Epoch 14/25\n",
            "1875/1875 [==============================] - 6s 3ms/step - loss: 0.0120 - accuracy: 0.9963 - val_loss: 0.1120 - val_accuracy: 0.9774\n",
            "Epoch 15/25\n",
            "1875/1875 [==============================] - 6s 3ms/step - loss: 0.0125 - accuracy: 0.9959 - val_loss: 0.1139 - val_accuracy: 0.9785\n",
            "Epoch 16/25\n",
            "1875/1875 [==============================] - 6s 3ms/step - loss: 0.0112 - accuracy: 0.9963 - val_loss: 0.1180 - val_accuracy: 0.9775\n",
            "Epoch 17/25\n",
            "1875/1875 [==============================] - 6s 3ms/step - loss: 0.0123 - accuracy: 0.9960 - val_loss: 0.1117 - val_accuracy: 0.9804\n",
            "Epoch 18/25\n",
            "1875/1875 [==============================] - 7s 4ms/step - loss: 0.0113 - accuracy: 0.9965 - val_loss: 0.1150 - val_accuracy: 0.9797\n",
            "Epoch 19/25\n",
            "1875/1875 [==============================] - 6s 3ms/step - loss: 0.0104 - accuracy: 0.9965 - val_loss: 0.1164 - val_accuracy: 0.9791\n",
            "Epoch 20/25\n",
            "1875/1875 [==============================] - 6s 3ms/step - loss: 0.0111 - accuracy: 0.9967 - val_loss: 0.1262 - val_accuracy: 0.9783\n",
            "Epoch 21/25\n",
            "1875/1875 [==============================] - 6s 3ms/step - loss: 0.0078 - accuracy: 0.9976 - val_loss: 0.1121 - val_accuracy: 0.9817\n",
            "Epoch 22/25\n",
            "1875/1875 [==============================] - 6s 3ms/step - loss: 0.0100 - accuracy: 0.9969 - val_loss: 0.1069 - val_accuracy: 0.9817\n",
            "Epoch 23/25\n",
            "1875/1875 [==============================] - 6s 3ms/step - loss: 0.0104 - accuracy: 0.9970 - val_loss: 0.1411 - val_accuracy: 0.9793\n",
            "Epoch 24/25\n",
            "1875/1875 [==============================] - 6s 3ms/step - loss: 0.0092 - accuracy: 0.9976 - val_loss: 0.1213 - val_accuracy: 0.9781\n",
            "Epoch 25/25\n",
            "1875/1875 [==============================] - 6s 3ms/step - loss: 0.0086 - accuracy: 0.9973 - val_loss: 0.1375 - val_accuracy: 0.9788\n"
          ]
        }
      ]
    },
    {
      "cell_type": "markdown",
      "source": [
        "<h1>Model Performance Evaluation</h1>"
      ],
      "metadata": {
        "id": "jMFuuq1z-an7"
      }
    },
    {
      "cell_type": "code",
      "source": [
        "# summarize history for the loss\n",
        "plt.style.use(\"fivethirtyeight\")\n",
        "plt.figure(figsize=(7,5))\n",
        "train_loss = history.history['loss']\n",
        "val_loss = history.history['val_loss']\n",
        "epochs = range(1, (len(history.history['loss']) + 1))\n",
        "plt.plot(epochs, train_loss,'o', color = 'b', label='Training loss')\n",
        "plt.plot(epochs, val_loss,label='Validation loss', color = 'b')\n",
        "plt.title('Training and validation loss')\n",
        "plt.xlabel('Epochs')\n",
        "plt.ylabel('Loss')\n",
        "plt.legend('best')\n",
        "plt.show()"
      ],
      "metadata": {
        "id": "B15Okd8cm_49",
        "colab": {
          "base_uri": "https://localhost:8080/",
          "height": 383
        },
        "outputId": "95ce4f74-9621-4971-942a-d29969476be4"
      },
      "execution_count": 10,
      "outputs": [
        {
          "output_type": "display_data",
          "data": {
            "text/plain": [
              "<Figure size 504x360 with 1 Axes>"
            ],
            "image/png": "[encoded data removed]"
          },
          "metadata": {}
        }
      ]
    },
    {
      "cell_type": "markdown",
      "source": [
        "We can see that the validation loss started to increase after the third epoch, which means it sarted to overfit"
      ],
      "metadata": {
        "id": "_Aj-jFIunxYJ"
      }
    },
    {
      "cell_type": "code",
      "source": [
        "# summarize history for the accuracy\n",
        "plt.figure(figsize=(7,5))\n",
        "train_acc = history.history['accuracy']\n",
        "val_acc = history.history['val_accuracy']\n",
        "epochs = range(1, (len(history.history['loss']) + 1))\n",
        "plt.plot(epochs, train_acc, 'o',color = 'red', label='Training Accuracy')\n",
        "plt.plot(epochs, val_acc,color= 'red', label='Validation Accuracy')\n",
        "plt.title('Training and validation accuracy')\n",
        "plt.xlabel('Epochs')\n",
        "plt.ylabel('Accuracy')\n",
        "plt.legend('best')\n",
        "plt.show()"
      ],
      "metadata": {
        "id": "xa4PgRFCoEcO",
        "colab": {
          "base_uri": "https://localhost:8080/",
          "height": 383
        },
        "outputId": "3ca7f9ff-2e9b-4986-fa55-97e10c7845bd"
      },
      "execution_count": 11,
      "outputs": [
        {
          "output_type": "display_data",
          "data": {
            "text/plain": [
              "<Figure size 504x360 with 1 Axes>"
            ],
            "image/png": "[encoded data removed]"
          },
          "metadata": {}
        }
      ]
    },
    {
      "cell_type": "markdown",
      "source": [
        "We are gonna train the model for 3 epochs"
      ],
      "metadata": {
        "id": "uesu2wu2pDUv"
      }
    },
    {
      "cell_type": "code",
      "source": [
        "model = tf.keras.models.Sequential()\n",
        "model.add(tf.keras.layers.Dense(128, activation=tf.nn.relu))\n",
        "model.add(tf.keras.layers.Dense(128, activation=tf.nn.relu))\n",
        "model.add(tf.keras.layers.Dense(10, activation=tf.nn.softmax))\n",
        "\n",
        "model.compile(optimizer='adam',\n",
        "              loss='sparse_categorical_crossentropy',\n",
        "              metrics=['accuracy'])\n",
        "\n",
        "history = model.fit(x_train, y_train,validation_data = (x_test, y_test),batch_size = 32, epochs=3)"
      ],
      "metadata": {
        "id": "uVWzrgk3pG92",
        "colab": {
          "base_uri": "https://localhost:8080/",
          "height": 0
        },
        "outputId": "9407f395-4482-400a-b817-2108a68cf209"
      },
      "execution_count": 12,
      "outputs": [
        {
          "output_type": "stream",
          "name": "stdout",
          "text": [
            "Epoch 1/3\n",
            "1875/1875 [==============================] - 7s 3ms/step - loss: 0.2373 - accuracy: 0.9291 - val_loss: 0.1147 - val_accuracy: 0.9631\n",
            "Epoch 2/3\n",
            "1875/1875 [==============================] - 6s 3ms/step - loss: 0.0970 - accuracy: 0.9704 - val_loss: 0.1025 - val_accuracy: 0.9681\n",
            "Epoch 3/3\n",
            "1875/1875 [==============================] - 7s 3ms/step - loss: 0.0676 - accuracy: 0.9788 - val_loss: 0.0790 - val_accuracy: 0.9759\n"
          ]
        }
      ]
    },
    {
      "cell_type": "code",
      "source": [
        "val_loss, val_acc = model.evaluate(x_test, y_test)\n",
        "print(val_loss)\n",
        "print(val_acc)"
      ],
      "metadata": {
        "id": "NbNyxaJnkCjS",
        "colab": {
          "base_uri": "https://localhost:8080/",
          "height": 0
        },
        "outputId": "6800f37a-bc2c-4855-da1f-c8c6fa6c12eb"
      },
      "execution_count": 13,
      "outputs": [
        {
          "output_type": "stream",
          "name": "stdout",
          "text": [
            "313/313 [==============================] - 1s 2ms/step - loss: 0.0790 - accuracy: 0.9759\n",
            "0.07904349267482758\n",
            "0.9758999943733215\n"
          ]
        }
      ]
    },
    {
      "cell_type": "markdown",
      "source": [
        "The model achieved an accuracy of 97.58%, but we will try to improve it more so we will proceed using CNNs\n",
        "\n"
      ],
      "metadata": {
        "id": "-M9aEL7KucWN"
      }
    },
    {
      "cell_type": "markdown",
      "source": [
        "<h1>Training a Convolutional Neural Network (CNN)</h1>"
      ],
      "metadata": {
        "id": "v32VgDMyj2Dj"
      }
    },
    {
      "cell_type": "code",
      "source": [
        "model = Sequential()   \n",
        "model.add(Conv2D(16, (3, 3), activation='relu', input_shape=(28,28,1)))\n",
        "model.add(BatchNormalization())\n",
        "model.add(MaxPooling2D((2, 2)))\n",
        "model.add(Dropout(0.25))\n",
        "\n",
        "model.add(Conv2D(32, (3, 3), activation='relu'))\n",
        "model.add(BatchNormalization())\n",
        "model.add(MaxPooling2D((2, 2)))\n",
        "model.add(Dropout(0.25))\n",
        "\n",
        "model.add(Flatten())\n",
        "\n",
        "model.add(Dense(64, activation=tf.nn.relu))\n",
        "model.add(BatchNormalization())\n",
        "model.add(Dropout(0.25))\n",
        "\n",
        "model.add(Dense(10, activation=tf.nn.softmax))\n",
        "\n",
        "model.compile(optimizer='adam',\n",
        "              loss='sparse_categorical_crossentropy',\n",
        "              metrics=['accuracy'])\n",
        "model.summary()\n"
      ],
      "metadata": {
        "id": "rzkqKm52vehM",
        "colab": {
          "base_uri": "https://localhost:8080/",
          "height": 0
        },
        "outputId": "73f580a2-0164-4820-a93a-020c0d658466"
      },
      "execution_count": 14,
      "outputs": [
        {
          "output_type": "stream",
          "name": "stdout",
          "text": [
            "Model: \"sequential_2\"\n",
            "_________________________________________________________________\n",
            " Layer (type)                Output Shape              Param #   \n",
            "=================================================================\n",
            " conv2d (Conv2D)             (None, 26, 26, 16)        160       \n",
            "                                                                 \n",
            " batch_normalization (BatchN  (None, 26, 26, 16)       64        \n",
            " ormalization)                                                   \n",
            "                                                                 \n",
            " max_pooling2d (MaxPooling2D  (None, 13, 13, 16)       0         \n",
            " )                                                               \n",
            "                                                                 \n",
            " dropout (Dropout)           (None, 13, 13, 16)        0         \n",
            "                                                                 \n",
            " conv2d_1 (Conv2D)           (None, 11, 11, 32)        4640      \n",
            "                                                                 \n",
            " batch_normalization_1 (Batc  (None, 11, 11, 32)       128       \n",
            " hNormalization)                                                 \n",
            "                                                                 \n",
            " max_pooling2d_1 (MaxPooling  (None, 5, 5, 32)         0         \n",
            " 2D)                                                             \n",
            "                                                                 \n",
            " dropout_1 (Dropout)         (None, 5, 5, 32)          0         \n",
            "                                                                 \n",
            " flatten (Flatten)           (None, 800)               0         \n",
            "                                                                 \n",
            " dense_6 (Dense)             (None, 64)                51264     \n",
            "                                                                 \n",
            " batch_normalization_2 (Batc  (None, 64)               256       \n",
            " hNormalization)                                                 \n",
            "                                                                 \n",
            " dropout_2 (Dropout)         (None, 64)                0         \n",
            "                                                                 \n",
            " dense_7 (Dense)             (None, 10)                650       \n",
            "                                                                 \n",
            "=================================================================\n",
            "Total params: 57,162\n",
            "Trainable params: 56,938\n",
            "Non-trainable params: 224\n",
            "_________________________________________________________________\n"
          ]
        }
      ]
    },
    {
      "cell_type": "code",
      "source": [
        "train_data = x_train.reshape(60000,28,28)\n",
        "test_data = x_test.reshape(10000,28,28)\n",
        "\n",
        "es = EarlyStopping(monitor='val_loss', \n",
        "                                   mode='min', \n",
        "                                   patience=3,\n",
        "                                   restore_best_weights=True)\n",
        "\n",
        "history = model.fit(train_data, y_train,validation_data = (test_data, y_test),batch_size = 32,callbacks = [es], epochs=25)"
      ],
      "metadata": {
        "id": "htINAUA8xrAp",
        "colab": {
          "base_uri": "https://localhost:8080/",
          "height": 0
        },
        "outputId": "e8ee10c2-491e-42b9-a6f3-a410c6e2a315"
      },
      "execution_count": 15,
      "outputs": [
        {
          "output_type": "stream",
          "name": "stdout",
          "text": [
            "Epoch 1/25\n",
            "1875/1875 [==============================] - 62s 33ms/step - loss: 0.2423 - accuracy: 0.9256 - val_loss: 0.0539 - val_accuracy: 0.9832\n",
            "Epoch 2/25\n",
            "1875/1875 [==============================] - 52s 28ms/step - loss: 0.1028 - accuracy: 0.9691 - val_loss: 0.0409 - val_accuracy: 0.9858\n",
            "Epoch 3/25\n",
            "1875/1875 [==============================] - 53s 28ms/step - loss: 0.0811 - accuracy: 0.9746 - val_loss: 0.0411 - val_accuracy: 0.9863\n",
            "Epoch 4/25\n",
            "1875/1875 [==============================] - 52s 28ms/step - loss: 0.0717 - accuracy: 0.9778 - val_loss: 0.0311 - val_accuracy: 0.9898\n",
            "Epoch 5/25\n",
            "1875/1875 [==============================] - 52s 28ms/step - loss: 0.0643 - accuracy: 0.9805 - val_loss: 0.0340 - val_accuracy: 0.9891\n",
            "Epoch 6/25\n",
            "1875/1875 [==============================] - 52s 28ms/step - loss: 0.0596 - accuracy: 0.9815 - val_loss: 0.0317 - val_accuracy: 0.9896\n",
            "Epoch 7/25\n",
            "1875/1875 [==============================] - 52s 28ms/step - loss: 0.0550 - accuracy: 0.9829 - val_loss: 0.0253 - val_accuracy: 0.9914\n",
            "Epoch 8/25\n",
            "1875/1875 [==============================] - 52s 28ms/step - loss: 0.0519 - accuracy: 0.9834 - val_loss: 0.0286 - val_accuracy: 0.9900\n",
            "Epoch 9/25\n",
            "1875/1875 [==============================] - 53s 28ms/step - loss: 0.0495 - accuracy: 0.9845 - val_loss: 0.0316 - val_accuracy: 0.9904\n",
            "Epoch 10/25\n",
            "1875/1875 [==============================] - 52s 28ms/step - loss: 0.0478 - accuracy: 0.9845 - val_loss: 0.0232 - val_accuracy: 0.9928\n",
            "Epoch 11/25\n",
            "1875/1875 [==============================] - 52s 28ms/step - loss: 0.0461 - accuracy: 0.9859 - val_loss: 0.0229 - val_accuracy: 0.9928\n",
            "Epoch 12/25\n",
            "1875/1875 [==============================] - 51s 27ms/step - loss: 0.0446 - accuracy: 0.9859 - val_loss: 0.0241 - val_accuracy: 0.9924\n",
            "Epoch 13/25\n",
            "1875/1875 [==============================] - 52s 28ms/step - loss: 0.0417 - accuracy: 0.9874 - val_loss: 0.0283 - val_accuracy: 0.9914\n",
            "Epoch 14/25\n",
            "1875/1875 [==============================] - 52s 27ms/step - loss: 0.0399 - accuracy: 0.9880 - val_loss: 0.0215 - val_accuracy: 0.9928\n",
            "Epoch 15/25\n",
            "1875/1875 [==============================] - 50s 27ms/step - loss: 0.0405 - accuracy: 0.9875 - val_loss: 0.0263 - val_accuracy: 0.9917\n",
            "Epoch 16/25\n",
            "1875/1875 [==============================] - 52s 27ms/step - loss: 0.0412 - accuracy: 0.9866 - val_loss: 0.0205 - val_accuracy: 0.9935\n",
            "Epoch 17/25\n",
            "1875/1875 [==============================] - 51s 27ms/step - loss: 0.0383 - accuracy: 0.9873 - val_loss: 0.0225 - val_accuracy: 0.9924\n",
            "Epoch 18/25\n",
            "1875/1875 [==============================] - 52s 28ms/step - loss: 0.0362 - accuracy: 0.9886 - val_loss: 0.0231 - val_accuracy: 0.9929\n",
            "Epoch 19/25\n",
            "1875/1875 [==============================] - 53s 28ms/step - loss: 0.0363 - accuracy: 0.9884 - val_loss: 0.0200 - val_accuracy: 0.9940\n",
            "Epoch 20/25\n",
            "1875/1875 [==============================] - 51s 27ms/step - loss: 0.0357 - accuracy: 0.9885 - val_loss: 0.0218 - val_accuracy: 0.9930\n",
            "Epoch 21/25\n",
            "1875/1875 [==============================] - 52s 28ms/step - loss: 0.0351 - accuracy: 0.9886 - val_loss: 0.0232 - val_accuracy: 0.9930\n",
            "Epoch 22/25\n",
            "1875/1875 [==============================] - 52s 28ms/step - loss: 0.0333 - accuracy: 0.9894 - val_loss: 0.0204 - val_accuracy: 0.9934\n"
          ]
        }
      ]
    },
    {
      "cell_type": "code",
      "source": [
        "plt.figure(figsize=(7,5))\n",
        "train_loss = history.history['loss']\n",
        "val_loss = history.history['val_loss']\n",
        "epochs = range(1, (len(history.history['loss']) + 1))\n",
        "plt.plot(epochs, train_loss,'o', color = 'g', label='Training loss')\n",
        "plt.plot(epochs, val_loss,label='Validation loss', color = 'g')\n",
        "plt.title('Training and validation loss')\n",
        "plt.xlabel('Epochs')\n",
        "plt.ylabel('Loss')\n",
        "plt.legend('best')\n",
        "plt.show()"
      ],
      "metadata": {
        "id": "WUZfkCKntZPk",
        "colab": {
          "base_uri": "https://localhost:8080/",
          "height": 383
        },
        "outputId": "abbde724-2fff-4b7b-bcc9-b8fdd9c6a7bc"
      },
      "execution_count": 16,
      "outputs": [
        {
          "output_type": "display_data",
          "data": {
            "text/plain": [
              "<Figure size 504x360 with 1 Axes>"
            ],
            "image/png": "[encoded data removed]"
          },
          "metadata": {}
        }
      ]
    },
    {
      "cell_type": "code",
      "source": [
        "val_loss, val_acc = model.evaluate(test_data, y_test)\n",
        "print(val_loss)\n",
        "print(val_acc)"
      ],
      "metadata": {
        "id": "vq7WKkBh28O2",
        "colab": {
          "base_uri": "https://localhost:8080/",
          "height": 0
        },
        "outputId": "94199185-cd8f-4ae0-f48a-9d56a902d892"
      },
      "execution_count": 17,
      "outputs": [
        {
          "output_type": "stream",
          "name": "stdout",
          "text": [
            "313/313 [==============================] - 3s 9ms/step - loss: 0.0200 - accuracy: 0.9940\n",
            "0.019954249262809753\n",
            "0.9940000176429749\n"
          ]
        }
      ]
    },
    {
      "cell_type": "markdown",
      "source": [
        "we can see that the Accuracy increased and the loss decreased compared to the simple Neural Net, We have reached an acuracy of 99,4%."
      ],
      "metadata": {
        "id": "AwcNa6sVtY2Z"
      }
    }
  ],
  "metadata": {
    "colab": {
      "provenance": []
    },
    "kernelspec": {
      "display_name": "Python 3",
      "name": "python3"
    },
    "language_info": {
      "name": "python"
    }
  },
  "nbformat": 4,
  "nbformat_minor": 0
}